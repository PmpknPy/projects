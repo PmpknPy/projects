{
 "cells": [
  {
   "cell_type": "code",
   "execution_count": 102,
   "metadata": {},
   "outputs": [],
   "source": [
    "import pandas as pd\n",
    "import numpy as np\n",
    "import matplotlib.pyplot as plt\n",
    "import seaborn as sb\n",
    "\n",
    "from numpy.random import randn\n",
    "from pandas import Series, DataFrame\n",
    "from pylab import rcParams"
   ]
  },
  {
   "cell_type": "code",
   "execution_count": 103,
   "metadata": {},
   "outputs": [],
   "source": [
    "%matplotlib inline\n",
    "rcParams['figure.figsize'] = 4, 4"
   ]
  },
  {
   "cell_type": "code",
   "execution_count": 104,
   "metadata": {},
   "outputs": [
    {
     "data": {
      "text/html": [
       "<div>\n",
       "<style scoped>\n",
       "    .dataframe tbody tr th:only-of-type {\n",
       "        vertical-align: middle;\n",
       "    }\n",
       "\n",
       "    .dataframe tbody tr th {\n",
       "        vertical-align: top;\n",
       "    }\n",
       "\n",
       "    .dataframe thead th {\n",
       "        text-align: right;\n",
       "    }\n",
       "</style>\n",
       "<table border=\"1\" class=\"dataframe\">\n",
       "  <thead>\n",
       "    <tr style=\"text-align: right;\">\n",
       "      <th></th>\n",
       "      <th>etl_run_guid</th>\n",
       "      <th>survey_date</th>\n",
       "      <th>content_type</th>\n",
       "      <th>respondent_id</th>\n",
       "      <th>movie_id</th>\n",
       "      <th>movie_name</th>\n",
       "      <th>networks</th>\n",
       "      <th>gender_name</th>\n",
       "      <th>age_group_bracket</th>\n",
       "      <th>ethnicity_name</th>\n",
       "      <th>education_level</th>\n",
       "      <th>income_bracket</th>\n",
       "      <th>household_size</th>\n",
       "      <th>rating</th>\n",
       "      <th>is_favorite</th>\n",
       "    </tr>\n",
       "  </thead>\n",
       "  <tbody>\n",
       "    <tr>\n",
       "      <th>0</th>\n",
       "      <td>897cdf62-18ac-49d5-8562-0c64cef6e837</td>\n",
       "      <td>1/31/2020</td>\n",
       "      <td>Movie</td>\n",
       "      <td>745007</td>\n",
       "      <td>9300</td>\n",
       "      <td>Man on a Ledge</td>\n",
       "      <td>NaN</td>\n",
       "      <td>Male</td>\n",
       "      <td>35 to 44</td>\n",
       "      <td>White or Caucasian</td>\n",
       "      <td>Higher education</td>\n",
       "      <td>$150,000 - $249,999</td>\n",
       "      <td>4</td>\n",
       "      <td>5</td>\n",
       "      <td>0</td>\n",
       "    </tr>\n",
       "    <tr>\n",
       "      <th>1</th>\n",
       "      <td>897cdf62-18ac-49d5-8562-0c64cef6e837</td>\n",
       "      <td>1/31/2020</td>\n",
       "      <td>Movie</td>\n",
       "      <td>745007</td>\n",
       "      <td>9171</td>\n",
       "      <td>Seeds of Yesterday</td>\n",
       "      <td>NaN</td>\n",
       "      <td>Male</td>\n",
       "      <td>35 to 44</td>\n",
       "      <td>White or Caucasian</td>\n",
       "      <td>Higher education</td>\n",
       "      <td>$150,000 - $249,999</td>\n",
       "      <td>4</td>\n",
       "      <td>5</td>\n",
       "      <td>0</td>\n",
       "    </tr>\n",
       "    <tr>\n",
       "      <th>2</th>\n",
       "      <td>897cdf62-18ac-49d5-8562-0c64cef6e837</td>\n",
       "      <td>1/31/2020</td>\n",
       "      <td>Movie</td>\n",
       "      <td>745007</td>\n",
       "      <td>9642</td>\n",
       "      <td>Billy Jack</td>\n",
       "      <td>NaN</td>\n",
       "      <td>Male</td>\n",
       "      <td>35 to 44</td>\n",
       "      <td>White or Caucasian</td>\n",
       "      <td>Higher education</td>\n",
       "      <td>$150,000 - $249,999</td>\n",
       "      <td>4</td>\n",
       "      <td>5</td>\n",
       "      <td>0</td>\n",
       "    </tr>\n",
       "    <tr>\n",
       "      <th>3</th>\n",
       "      <td>897cdf62-18ac-49d5-8562-0c64cef6e837</td>\n",
       "      <td>1/31/2020</td>\n",
       "      <td>Movie</td>\n",
       "      <td>745007</td>\n",
       "      <td>9200</td>\n",
       "      <td>High Flying Bird</td>\n",
       "      <td>NaN</td>\n",
       "      <td>Male</td>\n",
       "      <td>35 to 44</td>\n",
       "      <td>White or Caucasian</td>\n",
       "      <td>Higher education</td>\n",
       "      <td>$150,000 - $249,999</td>\n",
       "      <td>4</td>\n",
       "      <td>5</td>\n",
       "      <td>0</td>\n",
       "    </tr>\n",
       "    <tr>\n",
       "      <th>4</th>\n",
       "      <td>897cdf62-18ac-49d5-8562-0c64cef6e837</td>\n",
       "      <td>1/31/2020</td>\n",
       "      <td>Movie</td>\n",
       "      <td>745007</td>\n",
       "      <td>9577</td>\n",
       "      <td>Annihilation</td>\n",
       "      <td>NaN</td>\n",
       "      <td>Male</td>\n",
       "      <td>35 to 44</td>\n",
       "      <td>White or Caucasian</td>\n",
       "      <td>Higher education</td>\n",
       "      <td>$150,000 - $249,999</td>\n",
       "      <td>4</td>\n",
       "      <td>5</td>\n",
       "      <td>0</td>\n",
       "    </tr>\n",
       "  </tbody>\n",
       "</table>\n",
       "</div>"
      ],
      "text/plain": [
       "                           etl_run_guid survey_date content_type  \\\n",
       "0  897cdf62-18ac-49d5-8562-0c64cef6e837   1/31/2020        Movie   \n",
       "1  897cdf62-18ac-49d5-8562-0c64cef6e837   1/31/2020        Movie   \n",
       "2  897cdf62-18ac-49d5-8562-0c64cef6e837   1/31/2020        Movie   \n",
       "3  897cdf62-18ac-49d5-8562-0c64cef6e837   1/31/2020        Movie   \n",
       "4  897cdf62-18ac-49d5-8562-0c64cef6e837   1/31/2020        Movie   \n",
       "\n",
       "   respondent_id  movie_id          movie_name  networks gender_name  \\\n",
       "0         745007      9300      Man on a Ledge       NaN        Male   \n",
       "1         745007      9171  Seeds of Yesterday       NaN        Male   \n",
       "2         745007      9642          Billy Jack       NaN        Male   \n",
       "3         745007      9200    High Flying Bird       NaN        Male   \n",
       "4         745007      9577        Annihilation       NaN        Male   \n",
       "\n",
       "  age_group_bracket      ethnicity_name   education_level  \\\n",
       "0          35 to 44  White or Caucasian  Higher education   \n",
       "1          35 to 44  White or Caucasian  Higher education   \n",
       "2          35 to 44  White or Caucasian  Higher education   \n",
       "3          35 to 44  White or Caucasian  Higher education   \n",
       "4          35 to 44  White or Caucasian  Higher education   \n",
       "\n",
       "        income_bracket household_size  rating  is_favorite  \n",
       "0  $150,000 - $249,999              4       5            0  \n",
       "1  $150,000 - $249,999              4       5            0  \n",
       "2  $150,000 - $249,999              4       5            0  \n",
       "3  $150,000 - $249,999              4       5            0  \n",
       "4  $150,000 - $249,999              4       5            0  "
      ]
     },
     "execution_count": 104,
     "metadata": {},
     "output_type": "execute_result"
    }
   ],
   "source": [
    "df = pd.read_csv('student_movie_ratings.csv')\n",
    "\n",
    "df.head()"
   ]
  },
  {
   "cell_type": "code",
   "execution_count": 105,
   "metadata": {},
   "outputs": [
    {
     "data": {
      "text/html": [
       "<div>\n",
       "<style scoped>\n",
       "    .dataframe tbody tr th:only-of-type {\n",
       "        vertical-align: middle;\n",
       "    }\n",
       "\n",
       "    .dataframe tbody tr th {\n",
       "        vertical-align: top;\n",
       "    }\n",
       "\n",
       "    .dataframe thead th {\n",
       "        text-align: right;\n",
       "    }\n",
       "</style>\n",
       "<table border=\"1\" class=\"dataframe\">\n",
       "  <thead>\n",
       "    <tr style=\"text-align: right;\">\n",
       "      <th></th>\n",
       "      <th>survey_date</th>\n",
       "      <th>respondent_id</th>\n",
       "      <th>movie_id</th>\n",
       "      <th>movie_name</th>\n",
       "      <th>gender_name</th>\n",
       "      <th>age_group_bracket</th>\n",
       "      <th>ethnicity_name</th>\n",
       "      <th>education_level</th>\n",
       "      <th>income_bracket</th>\n",
       "      <th>household_size</th>\n",
       "      <th>rating</th>\n",
       "      <th>is_favorite</th>\n",
       "    </tr>\n",
       "  </thead>\n",
       "  <tbody>\n",
       "    <tr>\n",
       "      <th>0</th>\n",
       "      <td>1/31/2020</td>\n",
       "      <td>745007</td>\n",
       "      <td>9300</td>\n",
       "      <td>Man on a Ledge</td>\n",
       "      <td>Male</td>\n",
       "      <td>35 to 44</td>\n",
       "      <td>White or Caucasian</td>\n",
       "      <td>Higher education</td>\n",
       "      <td>$150,000 - $249,999</td>\n",
       "      <td>4</td>\n",
       "      <td>5</td>\n",
       "      <td>0</td>\n",
       "    </tr>\n",
       "    <tr>\n",
       "      <th>1</th>\n",
       "      <td>1/31/2020</td>\n",
       "      <td>745007</td>\n",
       "      <td>9171</td>\n",
       "      <td>Seeds of Yesterday</td>\n",
       "      <td>Male</td>\n",
       "      <td>35 to 44</td>\n",
       "      <td>White or Caucasian</td>\n",
       "      <td>Higher education</td>\n",
       "      <td>$150,000 - $249,999</td>\n",
       "      <td>4</td>\n",
       "      <td>5</td>\n",
       "      <td>0</td>\n",
       "    </tr>\n",
       "    <tr>\n",
       "      <th>2</th>\n",
       "      <td>1/31/2020</td>\n",
       "      <td>745007</td>\n",
       "      <td>9642</td>\n",
       "      <td>Billy Jack</td>\n",
       "      <td>Male</td>\n",
       "      <td>35 to 44</td>\n",
       "      <td>White or Caucasian</td>\n",
       "      <td>Higher education</td>\n",
       "      <td>$150,000 - $249,999</td>\n",
       "      <td>4</td>\n",
       "      <td>5</td>\n",
       "      <td>0</td>\n",
       "    </tr>\n",
       "    <tr>\n",
       "      <th>3</th>\n",
       "      <td>1/31/2020</td>\n",
       "      <td>745007</td>\n",
       "      <td>9200</td>\n",
       "      <td>High Flying Bird</td>\n",
       "      <td>Male</td>\n",
       "      <td>35 to 44</td>\n",
       "      <td>White or Caucasian</td>\n",
       "      <td>Higher education</td>\n",
       "      <td>$150,000 - $249,999</td>\n",
       "      <td>4</td>\n",
       "      <td>5</td>\n",
       "      <td>0</td>\n",
       "    </tr>\n",
       "    <tr>\n",
       "      <th>4</th>\n",
       "      <td>1/31/2020</td>\n",
       "      <td>745007</td>\n",
       "      <td>9577</td>\n",
       "      <td>Annihilation</td>\n",
       "      <td>Male</td>\n",
       "      <td>35 to 44</td>\n",
       "      <td>White or Caucasian</td>\n",
       "      <td>Higher education</td>\n",
       "      <td>$150,000 - $249,999</td>\n",
       "      <td>4</td>\n",
       "      <td>5</td>\n",
       "      <td>0</td>\n",
       "    </tr>\n",
       "  </tbody>\n",
       "</table>\n",
       "</div>"
      ],
      "text/plain": [
       "  survey_date  respondent_id  movie_id          movie_name gender_name  \\\n",
       "0   1/31/2020         745007      9300      Man on a Ledge        Male   \n",
       "1   1/31/2020         745007      9171  Seeds of Yesterday        Male   \n",
       "2   1/31/2020         745007      9642          Billy Jack        Male   \n",
       "3   1/31/2020         745007      9200    High Flying Bird        Male   \n",
       "4   1/31/2020         745007      9577        Annihilation        Male   \n",
       "\n",
       "  age_group_bracket      ethnicity_name   education_level  \\\n",
       "0          35 to 44  White or Caucasian  Higher education   \n",
       "1          35 to 44  White or Caucasian  Higher education   \n",
       "2          35 to 44  White or Caucasian  Higher education   \n",
       "3          35 to 44  White or Caucasian  Higher education   \n",
       "4          35 to 44  White or Caucasian  Higher education   \n",
       "\n",
       "        income_bracket household_size  rating  is_favorite  \n",
       "0  $150,000 - $249,999              4       5            0  \n",
       "1  $150,000 - $249,999              4       5            0  \n",
       "2  $150,000 - $249,999              4       5            0  \n",
       "3  $150,000 - $249,999              4       5            0  \n",
       "4  $150,000 - $249,999              4       5            0  "
      ]
     },
     "execution_count": 105,
     "metadata": {},
     "output_type": "execute_result"
    }
   ],
   "source": [
    "df_drop = df.drop(['etl_run_guid','content_type','networks'], axis=1)\n",
    "df_drop.head()"
   ]
  },
  {
   "cell_type": "code",
   "execution_count": 106,
   "metadata": {},
   "outputs": [
    {
     "data": {
      "text/html": [
       "<div>\n",
       "<style scoped>\n",
       "    .dataframe tbody tr th:only-of-type {\n",
       "        vertical-align: middle;\n",
       "    }\n",
       "\n",
       "    .dataframe tbody tr th {\n",
       "        vertical-align: top;\n",
       "    }\n",
       "\n",
       "    .dataframe thead th {\n",
       "        text-align: right;\n",
       "    }\n",
       "</style>\n",
       "<table border=\"1\" class=\"dataframe\">\n",
       "  <thead>\n",
       "    <tr style=\"text-align: right;\">\n",
       "      <th></th>\n",
       "      <th>respondent_id</th>\n",
       "      <th>movie_id</th>\n",
       "      <th>rating</th>\n",
       "      <th>is_favorite</th>\n",
       "    </tr>\n",
       "  </thead>\n",
       "  <tbody>\n",
       "    <tr>\n",
       "      <th>count</th>\n",
       "      <td>256306.000</td>\n",
       "      <td>256306.000</td>\n",
       "      <td>256306.000</td>\n",
       "      <td>256306.000</td>\n",
       "    </tr>\n",
       "    <tr>\n",
       "      <th>mean</th>\n",
       "      <td>760879.160</td>\n",
       "      <td>10540.470</td>\n",
       "      <td>3.959</td>\n",
       "      <td>0.046</td>\n",
       "    </tr>\n",
       "    <tr>\n",
       "      <th>std</th>\n",
       "      <td>12544.791</td>\n",
       "      <td>1082.303</td>\n",
       "      <td>1.005</td>\n",
       "      <td>0.210</td>\n",
       "    </tr>\n",
       "    <tr>\n",
       "      <th>min</th>\n",
       "      <td>743006.000</td>\n",
       "      <td>8984.000</td>\n",
       "      <td>1.000</td>\n",
       "      <td>0.000</td>\n",
       "    </tr>\n",
       "    <tr>\n",
       "      <th>25%</th>\n",
       "      <td>750776.000</td>\n",
       "      <td>9636.000</td>\n",
       "      <td>3.000</td>\n",
       "      <td>0.000</td>\n",
       "    </tr>\n",
       "    <tr>\n",
       "      <th>50%</th>\n",
       "      <td>759411.000</td>\n",
       "      <td>10400.000</td>\n",
       "      <td>4.000</td>\n",
       "      <td>0.000</td>\n",
       "    </tr>\n",
       "    <tr>\n",
       "      <th>75%</th>\n",
       "      <td>767573.000</td>\n",
       "      <td>11368.000</td>\n",
       "      <td>5.000</td>\n",
       "      <td>0.000</td>\n",
       "    </tr>\n",
       "    <tr>\n",
       "      <th>max</th>\n",
       "      <td>957174.000</td>\n",
       "      <td>13532.000</td>\n",
       "      <td>5.000</td>\n",
       "      <td>1.000</td>\n",
       "    </tr>\n",
       "  </tbody>\n",
       "</table>\n",
       "</div>"
      ],
      "text/plain": [
       "       respondent_id    movie_id      rating  is_favorite\n",
       "count     256306.000  256306.000  256306.000   256306.000\n",
       "mean      760879.160   10540.470       3.959        0.046\n",
       "std        12544.791    1082.303       1.005        0.210\n",
       "min       743006.000    8984.000       1.000        0.000\n",
       "25%       750776.000    9636.000       3.000        0.000\n",
       "50%       759411.000   10400.000       4.000        0.000\n",
       "75%       767573.000   11368.000       5.000        0.000\n",
       "max       957174.000   13532.000       5.000        1.000"
      ]
     },
     "execution_count": 106,
     "metadata": {},
     "output_type": "execute_result"
    }
   ],
   "source": [
    "df_drop.describe().round(3)"
   ]
  },
  {
   "cell_type": "code",
   "execution_count": 107,
   "metadata": {},
   "outputs": [
    {
     "data": {
      "text/html": [
       "<div>\n",
       "<style scoped>\n",
       "    .dataframe tbody tr th:only-of-type {\n",
       "        vertical-align: middle;\n",
       "    }\n",
       "\n",
       "    .dataframe tbody tr th {\n",
       "        vertical-align: top;\n",
       "    }\n",
       "\n",
       "    .dataframe thead th {\n",
       "        text-align: right;\n",
       "    }\n",
       "</style>\n",
       "<table border=\"1\" class=\"dataframe\">\n",
       "  <thead>\n",
       "    <tr style=\"text-align: right;\">\n",
       "      <th></th>\n",
       "      <th>count</th>\n",
       "      <th>missing values</th>\n",
       "    </tr>\n",
       "  </thead>\n",
       "  <tbody>\n",
       "    <tr>\n",
       "      <th>etl_run_guid</th>\n",
       "      <td>256306</td>\n",
       "      <td>0</td>\n",
       "    </tr>\n",
       "    <tr>\n",
       "      <th>survey_date</th>\n",
       "      <td>256306</td>\n",
       "      <td>0</td>\n",
       "    </tr>\n",
       "    <tr>\n",
       "      <th>content_type</th>\n",
       "      <td>256306</td>\n",
       "      <td>0</td>\n",
       "    </tr>\n",
       "    <tr>\n",
       "      <th>respondent_id</th>\n",
       "      <td>256306</td>\n",
       "      <td>0</td>\n",
       "    </tr>\n",
       "    <tr>\n",
       "      <th>movie_id</th>\n",
       "      <td>256306</td>\n",
       "      <td>0</td>\n",
       "    </tr>\n",
       "    <tr>\n",
       "      <th>movie_name</th>\n",
       "      <td>256306</td>\n",
       "      <td>0</td>\n",
       "    </tr>\n",
       "    <tr>\n",
       "      <th>networks</th>\n",
       "      <td>256306</td>\n",
       "      <td>256306</td>\n",
       "    </tr>\n",
       "    <tr>\n",
       "      <th>gender_name</th>\n",
       "      <td>256306</td>\n",
       "      <td>0</td>\n",
       "    </tr>\n",
       "    <tr>\n",
       "      <th>age_group_bracket</th>\n",
       "      <td>256306</td>\n",
       "      <td>0</td>\n",
       "    </tr>\n",
       "    <tr>\n",
       "      <th>ethnicity_name</th>\n",
       "      <td>256306</td>\n",
       "      <td>0</td>\n",
       "    </tr>\n",
       "    <tr>\n",
       "      <th>education_level</th>\n",
       "      <td>256306</td>\n",
       "      <td>0</td>\n",
       "    </tr>\n",
       "    <tr>\n",
       "      <th>income_bracket</th>\n",
       "      <td>256306</td>\n",
       "      <td>0</td>\n",
       "    </tr>\n",
       "    <tr>\n",
       "      <th>household_size</th>\n",
       "      <td>256306</td>\n",
       "      <td>0</td>\n",
       "    </tr>\n",
       "    <tr>\n",
       "      <th>rating</th>\n",
       "      <td>256306</td>\n",
       "      <td>0</td>\n",
       "    </tr>\n",
       "    <tr>\n",
       "      <th>is_favorite</th>\n",
       "      <td>256306</td>\n",
       "      <td>0</td>\n",
       "    </tr>\n",
       "  </tbody>\n",
       "</table>\n",
       "</div>"
      ],
      "text/plain": [
       "                    count  missing values\n",
       "etl_run_guid       256306               0\n",
       "survey_date        256306               0\n",
       "content_type       256306               0\n",
       "respondent_id      256306               0\n",
       "movie_id           256306               0\n",
       "movie_name         256306               0\n",
       "networks           256306          256306\n",
       "gender_name        256306               0\n",
       "age_group_bracket  256306               0\n",
       "ethnicity_name     256306               0\n",
       "education_level    256306               0\n",
       "income_bracket     256306               0\n",
       "household_size     256306               0\n",
       "rating             256306               0\n",
       "is_favorite        256306               0"
      ]
     },
     "execution_count": 107,
     "metadata": {},
     "output_type": "execute_result"
    }
   ],
   "source": [
    "pd.DataFrame({'count': len(df),\n",
    "     'missing values': df.isnull().sum(),\n",
    "              })"
   ]
  },
  {
   "cell_type": "code",
   "execution_count": 108,
   "metadata": {},
   "outputs": [
    {
     "data": {
      "text/plain": [
       "<AxesSubplot:title={'center':'Gender distribution'}>"
      ]
     },
     "execution_count": 108,
     "metadata": {},
     "output_type": "execute_result"
    },
    {
     "data": {
      "image/png": "[encoded data removed]",
      "text/plain": [
       "<Figure size 288x288 with 1 Axes>"
      ]
     },
     "metadata": {},
     "output_type": "display_data"
    }
   ],
   "source": [
    "gender = df_drop['gender_name'].value_counts()\n",
    "gender.plot(kind='pie', label='', grid=True, title='Gender distribution', autopct='%1.2f%%', colormap='Paired')"
   ]
  },
  {
   "cell_type": "code",
   "execution_count": 109,
   "metadata": {},
   "outputs": [
    {
     "data": {
      "text/plain": [
       "Female    129540\n",
       "Male      126766\n",
       "Name: gender_name, dtype: int64"
      ]
     },
     "execution_count": 109,
     "metadata": {},
     "output_type": "execute_result"
    }
   ],
   "source": [
    "df_drop['gender_name'].value_counts()"
   ]
  },
  {
   "cell_type": "code",
   "execution_count": 110,
   "metadata": {},
   "outputs": [
    {
     "data": {
      "text/plain": [
       "<AxesSubplot:title={'center':'Age Group Bracket freq distribution'}>"
      ]
     },
     "execution_count": 110,
     "metadata": {},
     "output_type": "execute_result"
    },
    {
     "data": {
      "image/png": "[encoded data removed]",
      "text/plain": [
       "<Figure size 720x288 with 1 Axes>"
      ]
     },
     "metadata": {
      "needs_background": "light"
     },
     "output_type": "display_data"
    }
   ],
   "source": [
    "age = df_drop['age_group_bracket'].value_counts()\n",
    "age.plot(kind='bar', color='red', rot=0, figsize=(10,4), grid=True, title='Age Group Bracket freq distribution')"
   ]
  },
  {
   "cell_type": "code",
   "execution_count": 111,
   "metadata": {},
   "outputs": [
    {
     "data": {
      "text/plain": [
       "35 to 44       52948\n",
       "25 to 34       51936\n",
       "18 to 24       44661\n",
       "55 to 64       38939\n",
       "50 to 54       23616\n",
       "45 to 49       20494\n",
       "Under 18       20105\n",
       "65 and Over     3607\n",
       "Name: age_group_bracket, dtype: int64"
      ]
     },
     "execution_count": 111,
     "metadata": {},
     "output_type": "execute_result"
    }
   ],
   "source": [
    "df_drop['age_group_bracket'].value_counts()"
   ]
  },
  {
   "cell_type": "code",
   "execution_count": 112,
   "metadata": {},
   "outputs": [
    {
     "data": {
      "text/plain": [
       "<AxesSubplot:title={'center':'Ethnicity'}>"
      ]
     },
     "execution_count": 112,
     "metadata": {},
     "output_type": "execute_result"
    },
    {
     "data": {
      "image/png": "[encoded data removed]",
      "text/plain": [
       "<Figure size 504x504 with 1 Axes>"
      ]
     },
     "metadata": {},
     "output_type": "display_data"
    }
   ],
   "source": [
    "eth = df_drop['ethnicity_name'].value_counts()\n",
    "eth.plot(kind='pie', label='', title='Ethnicity', autopct='%1.2f%%', figsize=[7,7])"
   ]
  },
  {
   "cell_type": "code",
   "execution_count": 113,
   "metadata": {},
   "outputs": [
    {
     "data": {
      "text/plain": [
       "White or Caucasian           164165\n",
       "Hispanic or Latino            42803\n",
       "African-American or Black     29010\n",
       "Asian                         12535\n",
       "Other (Specify:)               6251\n",
       "Decline to answer              1542\n",
       "Name: ethnicity_name, dtype: int64"
      ]
     },
     "execution_count": 113,
     "metadata": {},
     "output_type": "execute_result"
    }
   ],
   "source": [
    "df_drop['ethnicity_name'].value_counts()"
   ]
  },
  {
   "cell_type": "code",
   "execution_count": 114,
   "metadata": {},
   "outputs": [
    {
     "data": {
      "text/plain": [
       "<AxesSubplot:title={'center':'Education Level'}>"
      ]
     },
     "execution_count": 114,
     "metadata": {},
     "output_type": "execute_result"
    },
    {
     "data": {
      "image/png": "[encoded data removed]",
      "text/plain": [
       "<Figure size 504x504 with 1 Axes>"
      ]
     },
     "metadata": {},
     "output_type": "display_data"
    }
   ],
   "source": [
    "edu = df_drop['education_level'].value_counts()\n",
    "edu.plot(kind='pie', title='Education Level', autopct='%1.2f%%', figsize=(7,7), label='', colormap='Set2')"
   ]
  },
  {
   "cell_type": "code",
   "execution_count": 115,
   "metadata": {},
   "outputs": [
    {
     "data": {
      "text/plain": [
       "College degree           73187\n",
       "Some college             57798\n",
       "High school diploma      47994\n",
       "Higher education         43063\n",
       "Some high school         22052\n",
       "Some higher education     9071\n",
       "Prefer not to answer      3141\n",
       "Name: education_level, dtype: int64"
      ]
     },
     "execution_count": 115,
     "metadata": {},
     "output_type": "execute_result"
    }
   ],
   "source": [
    "df_drop['education_level'].value_counts()"
   ]
  },
  {
   "cell_type": "code",
   "execution_count": 116,
   "metadata": {
    "scrolled": true
   },
   "outputs": [
    {
     "data": {
      "text/plain": [
       "<AxesSubplot:title={'center':'Rating freq distribution'}>"
      ]
     },
     "execution_count": 116,
     "metadata": {},
     "output_type": "execute_result"
    },
    {
     "data": {
      "image/png": "[encoded data removed]",
      "text/plain": [
       "<Figure size 288x288 with 1 Axes>"
      ]
     },
     "metadata": {
      "needs_background": "light"
     },
     "output_type": "display_data"
    }
   ],
   "source": [
    "rate = df_drop['rating'].value_counts()\n",
    "rate.plot(kind='bar', grid=True, title='Rating freq distribution', rot=0, color='green')"
   ]
  },
  {
   "cell_type": "code",
   "execution_count": 117,
   "metadata": {},
   "outputs": [
    {
     "data": {
      "text/plain": [
       "<AxesSubplot:title={'center':'Income bracket distribution'}>"
      ]
     },
     "execution_count": 117,
     "metadata": {},
     "output_type": "execute_result"
    },
    {
     "data": {
      "image/png": "[encoded data removed]",
      "text/plain": [
       "<Figure size 1080x288 with 1 Axes>"
      ]
     },
     "metadata": {
      "needs_background": "light"
     },
     "output_type": "display_data"
    }
   ],
   "source": [
    "inc = df_drop['income_bracket'].value_counts()\n",
    "inc.plot(kind='bar', figsize=(15,4), rot=20, title='Income bracket distribution', color='purple', grid=True)"
   ]
  },
  {
   "cell_type": "code",
   "execution_count": 118,
   "metadata": {},
   "outputs": [
    {
     "data": {
      "text/plain": [
       "<AxesSubplot:title={'center':'household size freq'}>"
      ]
     },
     "execution_count": 118,
     "metadata": {},
     "output_type": "execute_result"
    },
    {
     "data": {
      "image/png": "[encoded data removed]",
      "text/plain": [
       "<Figure size 288x288 with 1 Axes>"
      ]
     },
     "metadata": {},
     "output_type": "display_data"
    }
   ],
   "source": [
    "house = df_drop['household_size'].value_counts()\n",
    "house.plot(kind='pie', label='', title='household size freq', colormap='tab20', autopct='%1.2f%%')"
   ]
  },
  {
   "cell_type": "code",
   "execution_count": 119,
   "metadata": {},
   "outputs": [
    {
     "data": {
      "text/plain": [
       "2     63771\n",
       "4     59093\n",
       "3     57726\n",
       "5+    40908\n",
       "1     34808\n",
       "Name: household_size, dtype: int64"
      ]
     },
     "execution_count": 119,
     "metadata": {},
     "output_type": "execute_result"
    }
   ],
   "source": [
    "df_drop['household_size'].value_counts()"
   ]
  },
  {
   "cell_type": "code",
   "execution_count": 120,
   "metadata": {},
   "outputs": [
    {
     "data": {
      "text/plain": [
       "<AxesSubplot:title={'center':'Favourites Freq'}>"
      ]
     },
     "execution_count": 120,
     "metadata": {},
     "output_type": "execute_result"
    },
    {
     "data": {
      "image/png": "[encoded data removed]",
      "text/plain": [
       "<Figure size 216x288 with 1 Axes>"
      ]
     },
     "metadata": {},
     "output_type": "display_data"
    }
   ],
   "source": [
    "fav = df_drop['is_favorite'].value_counts()\n",
    "fav.plot(kind='pie', label='', title='Favourites Freq', autopct='%1.2f%%', figsize=(3,4), colormap='Set3')"
   ]
  },
  {
   "cell_type": "code",
   "execution_count": 121,
   "metadata": {},
   "outputs": [
    {
     "data": {
      "text/plain": [
       "0    244442\n",
       "1     11864\n",
       "Name: is_favorite, dtype: int64"
      ]
     },
     "execution_count": 121,
     "metadata": {},
     "output_type": "execute_result"
    }
   ],
   "source": [
    "df_drop['is_favorite'].value_counts()"
   ]
  },
  {
   "cell_type": "code",
   "execution_count": 122,
   "metadata": {},
   "outputs": [
    {
     "data": {
      "text/plain": [
       "survey_date          object\n",
       "respondent_id         int64\n",
       "movie_id              int64\n",
       "movie_name           object\n",
       "gender_name          object\n",
       "age_group_bracket    object\n",
       "ethnicity_name       object\n",
       "education_level      object\n",
       "income_bracket       object\n",
       "household_size       object\n",
       "rating                int64\n",
       "is_favorite           int64\n",
       "dtype: object"
      ]
     },
     "execution_count": 122,
     "metadata": {},
     "output_type": "execute_result"
    }
   ],
   "source": [
    "df_drop.dtypes"
   ]
  },
  {
   "cell_type": "markdown",
   "metadata": {},
   "source": [
    "### METADATA\n",
    "\n",
    "* 8 String Variables: survey_date, movie_name, gender_name, age_group_bracket, ethnicity_name, education_level, income_bracket, household_size\n",
    "    * survey_date should be datatime data type\n",
    "    * every other variable is nominal/categorical\n",
    "* 4 Integer Variables: respondent_id, movie_id, rating, is_favorite\n",
    "    * respondent_id, is_favorite, and movie_id are nominal/categorical\n",
    "    * rating is ordinal"
   ]
  }
 ],
 "metadata": {
  "kernelspec": {
   "display_name": "Python 3",
   "language": "python",
   "name": "python3"
  },
  "language_info": {
   "codemirror_mode": {
    "name": "ipython",
    "version": 3
   },
   "file_extension": ".py",
   "mimetype": "text/x-python",
   "name": "python",
   "nbconvert_exporter": "python",
   "pygments_lexer": "ipython3",
   "version": "3.8.5"
  }
 },
 "nbformat": 4,
 "nbformat_minor": 4
}
