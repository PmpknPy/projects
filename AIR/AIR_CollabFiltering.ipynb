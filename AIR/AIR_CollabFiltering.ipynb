{
 "cells": [
  {
   "cell_type": "code",
   "execution_count": 1,
   "metadata": {},
   "outputs": [
    {
     "name": "stdout",
     "output_type": "stream",
     "text": [
      "Collecting package metadata (current_repodata.json): ...working... done\n",
      "Note: you may need to restart the kernel to use updated packages.\n",
      "Solving environment: ...working... done\n",
      "\n",
      "# All requested packages already installed.\n",
      "\n",
      "Retrieving notices: ...working... done\n",
      "\n"
     ]
    }
   ],
   "source": [
    "conda install -c conda-forge scikit-surprise"
   ]
  },
  {
   "cell_type": "code",
   "execution_count": 2,
   "metadata": {},
   "outputs": [
    {
     "name": "stdout",
     "output_type": "stream",
     "text": [
      "Requirement already satisfied: mlxtend in c:\\users\\larry\\anaconda3\\lib\\site-packages (0.21.0)\n",
      "Requirement already satisfied: pandas>=0.24.2 in c:\\users\\larry\\anaconda3\\lib\\site-packages (from mlxtend) (1.2.4)\n",
      "Requirement already satisfied: matplotlib>=3.0.0 in c:\\users\\larry\\anaconda3\\lib\\site-packages (from mlxtend) (3.3.4)\n",
      "Requirement already satisfied: scipy>=1.2.1 in c:\\users\\larry\\anaconda3\\lib\\site-packages (from mlxtend) (1.6.2)\n",
      "Requirement already satisfied: scikit-learn>=1.0.2 in c:\\users\\larry\\anaconda3\\lib\\site-packages (from mlxtend) (1.1.2)\n",
      "Requirement already satisfied: setuptools in c:\\users\\larry\\anaconda3\\lib\\site-packages (from mlxtend) (52.0.0.post20210125)\n",
      "Requirement already satisfied: numpy>=1.16.2 in c:\\users\\larry\\anaconda3\\lib\\site-packages (from mlxtend) (1.20.1)\n",
      "Requirement already satisfied: joblib>=0.13.2 in c:\\users\\larry\\anaconda3\\lib\\site-packages (from mlxtend) (1.0.1)\n",
      "Requirement already satisfied: pillow>=6.2.0 in c:\\users\\larry\\anaconda3\\lib\\site-packages (from matplotlib>=3.0.0->mlxtend) (8.2.0)\n",
      "Requirement already satisfied: kiwisolver>=1.0.1 in c:\\users\\larry\\anaconda3\\lib\\site-packages (from matplotlib>=3.0.0->mlxtend) (1.3.1)\n",
      "Requirement already satisfied: python-dateutil>=2.1 in c:\\users\\larry\\anaconda3\\lib\\site-packages (from matplotlib>=3.0.0->mlxtend) (2.8.1)\n",
      "Requirement already satisfied: pyparsing!=2.0.4,!=2.1.2,!=2.1.6,>=2.0.3 in c:\\users\\larry\\anaconda3\\lib\\site-packages (from matplotlib>=3.0.0->mlxtend) (2.4.7)\n",
      "Requirement already satisfied: cycler>=0.10 in c:\\users\\larry\\anaconda3\\lib\\site-packages (from matplotlib>=3.0.0->mlxtend) (0.10.0)\n",
      "Requirement already satisfied: pytz>=2017.3 in c:\\users\\larry\\anaconda3\\lib\\site-packages (from pandas>=0.24.2->mlxtend) (2021.1)\n",
      "Requirement already satisfied: threadpoolctl>=2.0.0 in c:\\users\\larry\\anaconda3\\lib\\site-packages (from scikit-learn>=1.0.2->mlxtend) (2.1.0)\n",
      "Requirement already satisfied: six in c:\\users\\larry\\anaconda3\\lib\\site-packages (from cycler>=0.10->matplotlib>=3.0.0->mlxtend) (1.15.0)\n",
      "Note: you may need to restart the kernel to use updated packages.\n"
     ]
    }
   ],
   "source": [
    "pip install mlxtend"
   ]
  },
  {
   "cell_type": "code",
   "execution_count": 3,
   "metadata": {},
   "outputs": [],
   "source": [
    "import numpy as np\n",
    "import pandas as pd\n",
    "\n",
    "#pd.options.display.max_columns = None\n",
    "#pd.options.display.max_rows = None\n",
    "#pd.options.display.max_colwidth = None\n",
    "#pd.options.display.precision = 20\n",
    "\n",
    "import heapq\n",
    "from collections import defaultdict\n",
    "\n",
    "from mlxtend.frequent_patterns import apriori\n",
    "from mlxtend.frequent_patterns import association_rules\n",
    "\n",
    "from surprise import Dataset, Reader, KNNBasic\n",
    "from surprise.model_selection import train_test_split\n",
    "\n",
    "#pd.options.display.max_rows = 10"
   ]
  },
  {
   "cell_type": "markdown",
   "metadata": {},
   "source": [
    "# RESET AIR"
   ]
  },
  {
   "cell_type": "code",
   "execution_count": 4,
   "metadata": {},
   "outputs": [
    {
     "name": "stderr",
     "output_type": "stream",
     "text": [
      "C:\\Users\\larry\\anaconda3\\lib\\site-packages\\ipykernel\\ipkernel.py:287: DeprecationWarning: `should_run_async` will not call `transform_cell` automatically in the future. Please pass the result to `transformed_cell` argument and any exception that happen during thetransform in `preprocessing_exc_tuple` in IPython 7.17 and above.\n",
      "  and should_run_async(code)\n"
     ]
    }
   ],
   "source": [
    "a, i, r = (pd.read_csv(\"student_movie_attributes.csv\"),\n",
    "           pd.read_csv(\"student_movie_intent.csv\"),\n",
    "           pd.read_csv(\"student_movie_ratings.csv\"))"
   ]
  },
  {
   "cell_type": "code",
   "execution_count": 5,
   "metadata": {},
   "outputs": [
    {
     "name": "stderr",
     "output_type": "stream",
     "text": [
      "C:\\Users\\larry\\anaconda3\\lib\\site-packages\\ipykernel\\ipkernel.py:287: DeprecationWarning: `should_run_async` will not call `transform_cell` automatically in the future. Please pass the result to `transformed_cell` argument and any exception that happen during thetransform in `preprocessing_exc_tuple` in IPython 7.17 and above.\n",
      "  and should_run_async(code)\n"
     ]
    }
   ],
   "source": [
    "a, i, r = (a.drop(['etl_run_guid', 'intent_score', 'survey_date', 'content_type', 'movie_name',\n",
    "                   'household_size', 'gender_name', 'age_group_bracket', 'ethnicity_name',\n",
    "                   'education_level', 'income_bracket'], axis=1),\n",
    "           i.drop(['etl_run_guid'], axis=1),\n",
    "           r.drop(['etl_run_guid', 'networks', 'content_type'], axis=1))"
   ]
  },
  {
   "cell_type": "code",
   "execution_count": 6,
   "metadata": {},
   "outputs": [
    {
     "name": "stderr",
     "output_type": "stream",
     "text": [
      "C:\\Users\\larry\\anaconda3\\lib\\site-packages\\ipykernel\\ipkernel.py:287: DeprecationWarning: `should_run_async` will not call `transform_cell` automatically in the future. Please pass the result to `transformed_cell` argument and any exception that happen during thetransform in `preprocessing_exc_tuple` in IPython 7.17 and above.\n",
      "  and should_run_async(code)\n"
     ]
    }
   ],
   "source": [
    "a, i, r = (a.sort_values(by=['respondent_id', 'movie_id']),\n",
    "           i.sort_values(by=['respondent_id', 'movie_id']),\n",
    "           r.sort_values(by=['respondent_id', 'movie_id']))"
   ]
  },
  {
   "cell_type": "code",
   "execution_count": 7,
   "metadata": {},
   "outputs": [
    {
     "name": "stderr",
     "output_type": "stream",
     "text": [
      "C:\\Users\\larry\\anaconda3\\lib\\site-packages\\ipykernel\\ipkernel.py:287: DeprecationWarning: `should_run_async` will not call `transform_cell` automatically in the future. Please pass the result to `transformed_cell` argument and any exception that happen during thetransform in `preprocessing_exc_tuple` in IPython 7.17 and above.\n",
      "  and should_run_async(code)\n"
     ]
    }
   ],
   "source": [
    "ir = r.merge(i, how='outer', on=['respondent_id', 'movie_id'])"
   ]
  },
  {
   "cell_type": "code",
   "execution_count": 8,
   "metadata": {},
   "outputs": [
    {
     "name": "stderr",
     "output_type": "stream",
     "text": [
      "C:\\Users\\larry\\anaconda3\\lib\\site-packages\\ipykernel\\ipkernel.py:287: DeprecationWarning: `should_run_async` will not call `transform_cell` automatically in the future. Please pass the result to `transformed_cell` argument and any exception that happen during thetransform in `preprocessing_exc_tuple` in IPython 7.17 and above.\n",
      "  and should_run_async(code)\n"
     ]
    },
    {
     "name": "stdout",
     "output_type": "stream",
     "text": [
      "(Rows, Columns) (249284, 74)\n",
      "Any null values? False\n"
     ]
    },
    {
     "data": {
      "text/html": [
       "<div>\n",
       "<style scoped>\n",
       "    .dataframe tbody tr th:only-of-type {\n",
       "        vertical-align: middle;\n",
       "    }\n",
       "\n",
       "    .dataframe tbody tr th {\n",
       "        vertical-align: top;\n",
       "    }\n",
       "\n",
       "    .dataframe thead th {\n",
       "        text-align: right;\n",
       "    }\n",
       "</style>\n",
       "<table border=\"1\" class=\"dataframe\">\n",
       "  <thead>\n",
       "    <tr style=\"text-align: right;\">\n",
       "      <th></th>\n",
       "      <th>survey_date</th>\n",
       "      <th>respondent_id</th>\n",
       "      <th>movie_id</th>\n",
       "      <th>movie_name</th>\n",
       "      <th>gender_name</th>\n",
       "      <th>age_group_bracket</th>\n",
       "      <th>ethnicity_name</th>\n",
       "      <th>education_level</th>\n",
       "      <th>income_bracket</th>\n",
       "      <th>household_size</th>\n",
       "      <th>...</th>\n",
       "      <th>exciting</th>\n",
       "      <th>calming</th>\n",
       "      <th>slow</th>\n",
       "      <th>unoriginal</th>\n",
       "      <th>uplifting</th>\n",
       "      <th>sexy</th>\n",
       "      <th>deep</th>\n",
       "      <th>suspenseful</th>\n",
       "      <th>thrilling</th>\n",
       "      <th>scary</th>\n",
       "    </tr>\n",
       "  </thead>\n",
       "  <tbody>\n",
       "    <tr>\n",
       "      <th>0</th>\n",
       "      <td>1/18/2020</td>\n",
       "      <td>743006</td>\n",
       "      <td>11549</td>\n",
       "      <td>Ad Astra</td>\n",
       "      <td>Male</td>\n",
       "      <td>55 to 64</td>\n",
       "      <td>Hispanic or Latino</td>\n",
       "      <td>Some college</td>\n",
       "      <td>$75,000 - $99,999</td>\n",
       "      <td>2</td>\n",
       "      <td>...</td>\n",
       "      <td>0.0</td>\n",
       "      <td>0.0</td>\n",
       "      <td>0.0</td>\n",
       "      <td>0.0</td>\n",
       "      <td>0.0</td>\n",
       "      <td>0.0</td>\n",
       "      <td>0.0</td>\n",
       "      <td>0.0</td>\n",
       "      <td>1.0</td>\n",
       "      <td>0.0</td>\n",
       "    </tr>\n",
       "    <tr>\n",
       "      <th>1</th>\n",
       "      <td>1/18/2020</td>\n",
       "      <td>743006</td>\n",
       "      <td>11679</td>\n",
       "      <td>Beetlejuice</td>\n",
       "      <td>Male</td>\n",
       "      <td>55 to 64</td>\n",
       "      <td>Hispanic or Latino</td>\n",
       "      <td>Some college</td>\n",
       "      <td>$75,000 - $99,999</td>\n",
       "      <td>2</td>\n",
       "      <td>...</td>\n",
       "      <td>0.0</td>\n",
       "      <td>0.0</td>\n",
       "      <td>0.0</td>\n",
       "      <td>0.0</td>\n",
       "      <td>0.0</td>\n",
       "      <td>0.0</td>\n",
       "      <td>0.0</td>\n",
       "      <td>0.0</td>\n",
       "      <td>0.0</td>\n",
       "      <td>0.0</td>\n",
       "    </tr>\n",
       "    <tr>\n",
       "      <th>2</th>\n",
       "      <td>1/18/2020</td>\n",
       "      <td>743006</td>\n",
       "      <td>11692</td>\n",
       "      <td>Deliverance</td>\n",
       "      <td>Male</td>\n",
       "      <td>55 to 64</td>\n",
       "      <td>Hispanic or Latino</td>\n",
       "      <td>Some college</td>\n",
       "      <td>$75,000 - $99,999</td>\n",
       "      <td>2</td>\n",
       "      <td>...</td>\n",
       "      <td>0.0</td>\n",
       "      <td>0.0</td>\n",
       "      <td>0.0</td>\n",
       "      <td>0.0</td>\n",
       "      <td>0.0</td>\n",
       "      <td>0.0</td>\n",
       "      <td>0.0</td>\n",
       "      <td>1.0</td>\n",
       "      <td>1.0</td>\n",
       "      <td>1.0</td>\n",
       "    </tr>\n",
       "    <tr>\n",
       "      <th>3</th>\n",
       "      <td>1/18/2020</td>\n",
       "      <td>743006</td>\n",
       "      <td>11708</td>\n",
       "      <td>Gremlins</td>\n",
       "      <td>Male</td>\n",
       "      <td>55 to 64</td>\n",
       "      <td>Hispanic or Latino</td>\n",
       "      <td>Some college</td>\n",
       "      <td>$75,000 - $99,999</td>\n",
       "      <td>2</td>\n",
       "      <td>...</td>\n",
       "      <td>0.0</td>\n",
       "      <td>0.0</td>\n",
       "      <td>0.0</td>\n",
       "      <td>0.0</td>\n",
       "      <td>0.0</td>\n",
       "      <td>0.0</td>\n",
       "      <td>0.0</td>\n",
       "      <td>1.0</td>\n",
       "      <td>1.0</td>\n",
       "      <td>0.0</td>\n",
       "    </tr>\n",
       "    <tr>\n",
       "      <th>4</th>\n",
       "      <td>1/18/2020</td>\n",
       "      <td>743006</td>\n",
       "      <td>11748</td>\n",
       "      <td>Risky Business</td>\n",
       "      <td>Male</td>\n",
       "      <td>55 to 64</td>\n",
       "      <td>Hispanic or Latino</td>\n",
       "      <td>Some college</td>\n",
       "      <td>$75,000 - $99,999</td>\n",
       "      <td>2</td>\n",
       "      <td>...</td>\n",
       "      <td>0.0</td>\n",
       "      <td>0.0</td>\n",
       "      <td>0.0</td>\n",
       "      <td>0.0</td>\n",
       "      <td>0.0</td>\n",
       "      <td>0.0</td>\n",
       "      <td>0.0</td>\n",
       "      <td>1.0</td>\n",
       "      <td>1.0</td>\n",
       "      <td>0.0</td>\n",
       "    </tr>\n",
       "    <tr>\n",
       "      <th>...</th>\n",
       "      <td>...</td>\n",
       "      <td>...</td>\n",
       "      <td>...</td>\n",
       "      <td>...</td>\n",
       "      <td>...</td>\n",
       "      <td>...</td>\n",
       "      <td>...</td>\n",
       "      <td>...</td>\n",
       "      <td>...</td>\n",
       "      <td>...</td>\n",
       "      <td>...</td>\n",
       "      <td>...</td>\n",
       "      <td>...</td>\n",
       "      <td>...</td>\n",
       "      <td>...</td>\n",
       "      <td>...</td>\n",
       "      <td>...</td>\n",
       "      <td>...</td>\n",
       "      <td>...</td>\n",
       "      <td>...</td>\n",
       "      <td>...</td>\n",
       "    </tr>\n",
       "    <tr>\n",
       "      <th>256299</th>\n",
       "      <td>6/11/2020</td>\n",
       "      <td>956985</td>\n",
       "      <td>9111</td>\n",
       "      <td>Abducted: The Carlina White Story</td>\n",
       "      <td>Female</td>\n",
       "      <td>65 and Over</td>\n",
       "      <td>African-American or Black</td>\n",
       "      <td>High school diploma</td>\n",
       "      <td>$25,000 - $34,999</td>\n",
       "      <td>1</td>\n",
       "      <td>...</td>\n",
       "      <td>0.0</td>\n",
       "      <td>0.0</td>\n",
       "      <td>0.0</td>\n",
       "      <td>0.0</td>\n",
       "      <td>0.0</td>\n",
       "      <td>0.0</td>\n",
       "      <td>0.0</td>\n",
       "      <td>0.0</td>\n",
       "      <td>0.0</td>\n",
       "      <td>1.0</td>\n",
       "    </tr>\n",
       "    <tr>\n",
       "      <th>256301</th>\n",
       "      <td>6/12/2020</td>\n",
       "      <td>957051</td>\n",
       "      <td>9111</td>\n",
       "      <td>Abducted: The Carlina White Story</td>\n",
       "      <td>Female</td>\n",
       "      <td>65 and Over</td>\n",
       "      <td>White or Caucasian</td>\n",
       "      <td>High school diploma</td>\n",
       "      <td>$15,000 - $24,999</td>\n",
       "      <td>2</td>\n",
       "      <td>...</td>\n",
       "      <td>0.0</td>\n",
       "      <td>0.0</td>\n",
       "      <td>0.0</td>\n",
       "      <td>0.0</td>\n",
       "      <td>0.0</td>\n",
       "      <td>0.0</td>\n",
       "      <td>0.0</td>\n",
       "      <td>1.0</td>\n",
       "      <td>0.0</td>\n",
       "      <td>1.0</td>\n",
       "    </tr>\n",
       "    <tr>\n",
       "      <th>256302</th>\n",
       "      <td>6/11/2020</td>\n",
       "      <td>957162</td>\n",
       "      <td>9111</td>\n",
       "      <td>Abducted: The Carlina White Story</td>\n",
       "      <td>Male</td>\n",
       "      <td>18 to 24</td>\n",
       "      <td>African-American or Black</td>\n",
       "      <td>College degree</td>\n",
       "      <td>$50,000 - $74,999</td>\n",
       "      <td>3</td>\n",
       "      <td>...</td>\n",
       "      <td>0.0</td>\n",
       "      <td>0.0</td>\n",
       "      <td>0.0</td>\n",
       "      <td>0.0</td>\n",
       "      <td>0.0</td>\n",
       "      <td>0.0</td>\n",
       "      <td>0.0</td>\n",
       "      <td>0.0</td>\n",
       "      <td>0.0</td>\n",
       "      <td>1.0</td>\n",
       "    </tr>\n",
       "    <tr>\n",
       "      <th>256303</th>\n",
       "      <td>6/12/2020</td>\n",
       "      <td>957166</td>\n",
       "      <td>9111</td>\n",
       "      <td>Abducted: The Carlina White Story</td>\n",
       "      <td>Male</td>\n",
       "      <td>18 to 24</td>\n",
       "      <td>White or Caucasian</td>\n",
       "      <td>High school diploma</td>\n",
       "      <td>$25,000 - $34,999</td>\n",
       "      <td>1</td>\n",
       "      <td>...</td>\n",
       "      <td>0.0</td>\n",
       "      <td>0.0</td>\n",
       "      <td>0.0</td>\n",
       "      <td>0.0</td>\n",
       "      <td>0.0</td>\n",
       "      <td>0.0</td>\n",
       "      <td>0.0</td>\n",
       "      <td>0.0</td>\n",
       "      <td>0.0</td>\n",
       "      <td>1.0</td>\n",
       "    </tr>\n",
       "    <tr>\n",
       "      <th>256305</th>\n",
       "      <td>6/12/2020</td>\n",
       "      <td>957174</td>\n",
       "      <td>9111</td>\n",
       "      <td>Abducted: The Carlina White Story</td>\n",
       "      <td>Male</td>\n",
       "      <td>35 to 44</td>\n",
       "      <td>White or Caucasian</td>\n",
       "      <td>Higher education</td>\n",
       "      <td>$100,000 - $149,999</td>\n",
       "      <td>1</td>\n",
       "      <td>...</td>\n",
       "      <td>0.0</td>\n",
       "      <td>0.0</td>\n",
       "      <td>0.0</td>\n",
       "      <td>0.0</td>\n",
       "      <td>0.0</td>\n",
       "      <td>0.0</td>\n",
       "      <td>0.0</td>\n",
       "      <td>0.0</td>\n",
       "      <td>0.0</td>\n",
       "      <td>0.0</td>\n",
       "    </tr>\n",
       "  </tbody>\n",
       "</table>\n",
       "<p>249284 rows × 74 columns</p>\n",
       "</div>"
      ],
      "text/plain": [
       "       survey_date  respondent_id  movie_id  \\\n",
       "0        1/18/2020         743006     11549   \n",
       "1        1/18/2020         743006     11679   \n",
       "2        1/18/2020         743006     11692   \n",
       "3        1/18/2020         743006     11708   \n",
       "4        1/18/2020         743006     11748   \n",
       "...            ...            ...       ...   \n",
       "256299   6/11/2020         956985      9111   \n",
       "256301   6/12/2020         957051      9111   \n",
       "256302   6/11/2020         957162      9111   \n",
       "256303   6/12/2020         957166      9111   \n",
       "256305   6/12/2020         957174      9111   \n",
       "\n",
       "                               movie_name gender_name age_group_bracket  \\\n",
       "0                                Ad Astra        Male          55 to 64   \n",
       "1                             Beetlejuice        Male          55 to 64   \n",
       "2                             Deliverance        Male          55 to 64   \n",
       "3                                Gremlins        Male          55 to 64   \n",
       "4                          Risky Business        Male          55 to 64   \n",
       "...                                   ...         ...               ...   \n",
       "256299  Abducted: The Carlina White Story      Female       65 and Over   \n",
       "256301  Abducted: The Carlina White Story      Female       65 and Over   \n",
       "256302  Abducted: The Carlina White Story        Male          18 to 24   \n",
       "256303  Abducted: The Carlina White Story        Male          18 to 24   \n",
       "256305  Abducted: The Carlina White Story        Male          35 to 44   \n",
       "\n",
       "                   ethnicity_name      education_level       income_bracket  \\\n",
       "0              Hispanic or Latino         Some college    $75,000 - $99,999   \n",
       "1              Hispanic or Latino         Some college    $75,000 - $99,999   \n",
       "2              Hispanic or Latino         Some college    $75,000 - $99,999   \n",
       "3              Hispanic or Latino         Some college    $75,000 - $99,999   \n",
       "4              Hispanic or Latino         Some college    $75,000 - $99,999   \n",
       "...                           ...                  ...                  ...   \n",
       "256299  African-American or Black  High school diploma    $25,000 - $34,999   \n",
       "256301         White or Caucasian  High school diploma    $15,000 - $24,999   \n",
       "256302  African-American or Black       College degree    $50,000 - $74,999   \n",
       "256303         White or Caucasian  High school diploma    $25,000 - $34,999   \n",
       "256305         White or Caucasian     Higher education  $100,000 - $149,999   \n",
       "\n",
       "       household_size  ...  exciting  calming  slow  unoriginal  uplifting  \\\n",
       "0                   2  ...       0.0      0.0   0.0         0.0        0.0   \n",
       "1                   2  ...       0.0      0.0   0.0         0.0        0.0   \n",
       "2                   2  ...       0.0      0.0   0.0         0.0        0.0   \n",
       "3                   2  ...       0.0      0.0   0.0         0.0        0.0   \n",
       "4                   2  ...       0.0      0.0   0.0         0.0        0.0   \n",
       "...               ...  ...       ...      ...   ...         ...        ...   \n",
       "256299              1  ...       0.0      0.0   0.0         0.0        0.0   \n",
       "256301              2  ...       0.0      0.0   0.0         0.0        0.0   \n",
       "256302              3  ...       0.0      0.0   0.0         0.0        0.0   \n",
       "256303              1  ...       0.0      0.0   0.0         0.0        0.0   \n",
       "256305              1  ...       0.0      0.0   0.0         0.0        0.0   \n",
       "\n",
       "        sexy  deep  suspenseful  thrilling  scary  \n",
       "0        0.0   0.0          0.0        1.0    0.0  \n",
       "1        0.0   0.0          0.0        0.0    0.0  \n",
       "2        0.0   0.0          1.0        1.0    1.0  \n",
       "3        0.0   0.0          1.0        1.0    0.0  \n",
       "4        0.0   0.0          1.0        1.0    0.0  \n",
       "...      ...   ...          ...        ...    ...  \n",
       "256299   0.0   0.0          0.0        0.0    1.0  \n",
       "256301   0.0   0.0          1.0        0.0    1.0  \n",
       "256302   0.0   0.0          0.0        0.0    1.0  \n",
       "256303   0.0   0.0          0.0        0.0    1.0  \n",
       "256305   0.0   0.0          0.0        0.0    0.0  \n",
       "\n",
       "[249284 rows x 74 columns]"
      ]
     },
     "execution_count": 8,
     "metadata": {},
     "output_type": "execute_result"
    }
   ],
   "source": [
    "air = ir.merge(a, how='outer', on=['respondent_id', 'movie_id'])\n",
    "air = air.dropna()\n",
    "\n",
    "print('(Rows, Columns)', air.shape)\n",
    "print('Any null values?', air.isnull().values.any())\n",
    "air"
   ]
  },
  {
   "cell_type": "code",
   "execution_count": 9,
   "metadata": {},
   "outputs": [
    {
     "name": "stderr",
     "output_type": "stream",
     "text": [
      "C:\\Users\\larry\\anaconda3\\lib\\site-packages\\ipykernel\\ipkernel.py:287: DeprecationWarning: `should_run_async` will not call `transform_cell` automatically in the future. Please pass the result to `transformed_cell` argument and any exception that happen during thetransform in `preprocessing_exc_tuple` in IPython 7.17 and above.\n",
      "  and should_run_async(code)\n"
     ]
    },
    {
     "data": {
      "text/plain": [
       "3213"
      ]
     },
     "execution_count": 9,
     "metadata": {},
     "output_type": "execute_result"
    }
   ],
   "source": [
    "air.movie_name.nunique()"
   ]
  },
  {
   "cell_type": "markdown",
   "metadata": {},
   "source": [
    "# STOP RESET"
   ]
  },
  {
   "cell_type": "markdown",
   "metadata": {},
   "source": [
    "# COLLABORATIVE FILTERING"
   ]
  },
  {
   "cell_type": "code",
   "execution_count": 10,
   "metadata": {},
   "outputs": [
    {
     "name": "stderr",
     "output_type": "stream",
     "text": [
      "C:\\Users\\larry\\anaconda3\\lib\\site-packages\\ipykernel\\ipkernel.py:287: DeprecationWarning: `should_run_async` will not call `transform_cell` automatically in the future. Please pass the result to `transformed_cell` argument and any exception that happen during thetransform in `preprocessing_exc_tuple` in IPython 7.17 and above.\n",
      "  and should_run_async(code)\n"
     ]
    },
    {
     "data": {
      "text/html": [
       "<div>\n",
       "<style scoped>\n",
       "    .dataframe tbody tr th:only-of-type {\n",
       "        vertical-align: middle;\n",
       "    }\n",
       "\n",
       "    .dataframe tbody tr th {\n",
       "        vertical-align: top;\n",
       "    }\n",
       "\n",
       "    .dataframe thead th {\n",
       "        text-align: right;\n",
       "    }\n",
       "</style>\n",
       "<table border=\"1\" class=\"dataframe\">\n",
       "  <thead>\n",
       "    <tr style=\"text-align: right;\">\n",
       "      <th></th>\n",
       "      <th>respondent_id</th>\n",
       "      <th>movie_name</th>\n",
       "      <th>rating</th>\n",
       "    </tr>\n",
       "  </thead>\n",
       "  <tbody>\n",
       "    <tr>\n",
       "      <th>0</th>\n",
       "      <td>743006</td>\n",
       "      <td>Ad Astra</td>\n",
       "      <td>4</td>\n",
       "    </tr>\n",
       "    <tr>\n",
       "      <th>1</th>\n",
       "      <td>743006</td>\n",
       "      <td>Beetlejuice</td>\n",
       "      <td>5</td>\n",
       "    </tr>\n",
       "    <tr>\n",
       "      <th>2</th>\n",
       "      <td>743006</td>\n",
       "      <td>Deliverance</td>\n",
       "      <td>5</td>\n",
       "    </tr>\n",
       "    <tr>\n",
       "      <th>3</th>\n",
       "      <td>743006</td>\n",
       "      <td>Gremlins</td>\n",
       "      <td>5</td>\n",
       "    </tr>\n",
       "    <tr>\n",
       "      <th>4</th>\n",
       "      <td>743006</td>\n",
       "      <td>Risky Business</td>\n",
       "      <td>3</td>\n",
       "    </tr>\n",
       "    <tr>\n",
       "      <th>...</th>\n",
       "      <td>...</td>\n",
       "      <td>...</td>\n",
       "      <td>...</td>\n",
       "    </tr>\n",
       "    <tr>\n",
       "      <th>256299</th>\n",
       "      <td>956985</td>\n",
       "      <td>Abducted: The Carlina White Story</td>\n",
       "      <td>4</td>\n",
       "    </tr>\n",
       "    <tr>\n",
       "      <th>256301</th>\n",
       "      <td>957051</td>\n",
       "      <td>Abducted: The Carlina White Story</td>\n",
       "      <td>2</td>\n",
       "    </tr>\n",
       "    <tr>\n",
       "      <th>256302</th>\n",
       "      <td>957162</td>\n",
       "      <td>Abducted: The Carlina White Story</td>\n",
       "      <td>4</td>\n",
       "    </tr>\n",
       "    <tr>\n",
       "      <th>256303</th>\n",
       "      <td>957166</td>\n",
       "      <td>Abducted: The Carlina White Story</td>\n",
       "      <td>3</td>\n",
       "    </tr>\n",
       "    <tr>\n",
       "      <th>256305</th>\n",
       "      <td>957174</td>\n",
       "      <td>Abducted: The Carlina White Story</td>\n",
       "      <td>5</td>\n",
       "    </tr>\n",
       "  </tbody>\n",
       "</table>\n",
       "<p>249284 rows × 3 columns</p>\n",
       "</div>"
      ],
      "text/plain": [
       "        respondent_id                         movie_name  rating\n",
       "0              743006                           Ad Astra       4\n",
       "1              743006                        Beetlejuice       5\n",
       "2              743006                        Deliverance       5\n",
       "3              743006                           Gremlins       5\n",
       "4              743006                     Risky Business       3\n",
       "...               ...                                ...     ...\n",
       "256299         956985  Abducted: The Carlina White Story       4\n",
       "256301         957051  Abducted: The Carlina White Story       2\n",
       "256302         957162  Abducted: The Carlina White Story       4\n",
       "256303         957166  Abducted: The Carlina White Story       3\n",
       "256305         957174  Abducted: The Carlina White Story       5\n",
       "\n",
       "[249284 rows x 3 columns]"
      ]
     },
     "execution_count": 10,
     "metadata": {},
     "output_type": "execute_result"
    }
   ],
   "source": [
    "cf = air[['respondent_id', 'movie_name', 'rating']]\n",
    "cf"
   ]
  },
  {
   "cell_type": "code",
   "execution_count": 11,
   "metadata": {},
   "outputs": [
    {
     "name": "stderr",
     "output_type": "stream",
     "text": [
      "C:\\Users\\larry\\anaconda3\\lib\\site-packages\\ipykernel\\ipkernel.py:287: DeprecationWarning: `should_run_async` will not call `transform_cell` automatically in the future. Please pass the result to `transformed_cell` argument and any exception that happen during thetransform in `preprocessing_exc_tuple` in IPython 7.17 and above.\n",
      "  and should_run_async(code)\n"
     ]
    },
    {
     "name": "stdout",
     "output_type": "stream",
     "text": [
      "Computing the cosine similarity matrix...\n"
     ]
    },
    {
     "name": "stderr",
     "output_type": "stream",
     "text": [
      "C:\\Users\\larry\\anaconda3\\lib\\site-packages\\surprise\\prediction_algorithms\\algo_base.py:249: DeprecationWarning: `np.int` is a deprecated alias for the builtin `int`. To silence this warning, use `int` by itself. Doing this will not modify any behavior and is safe. When replacing `np.int`, you may wish to use e.g. `np.int64` or `np.int32` to specify the precision. If you wish to review your current use, check the release note link for additional information.\n",
      "Deprecated in NumPy 1.20; for more details and guidance: https://numpy.org/devdocs/release/1.20.0-notes.html#deprecations\n",
      "  sim = construction_func[name](*args)\n"
     ]
    },
    {
     "name": "stdout",
     "output_type": "stream",
     "text": [
      "Done computing similarity matrix.\n"
     ]
    },
    {
     "data": {
      "text/plain": [
       "<surprise.prediction_algorithms.knns.KNNBasic at 0x1fd0b2bdc10>"
      ]
     },
     "execution_count": 11,
     "metadata": {},
     "output_type": "execute_result"
    }
   ],
   "source": [
    "reader = Reader(rating_scale=(1, 5))\n",
    "data = Dataset.load_from_df(cf[['respondent_id', 'movie_name', 'rating']], reader)\n",
    "trainset = data.build_full_trainset()\n",
    "sim_options = {'name': 'cosine', 'user_based': False}  # compute cosine similarities between items\n",
    "algo = KNNBasic(sim_options=sim_options)\n",
    "algo.fit(trainset)"
   ]
  },
  {
   "cell_type": "code",
   "execution_count": 12,
   "metadata": {},
   "outputs": [
    {
     "name": "stderr",
     "output_type": "stream",
     "text": [
      "C:\\Users\\larry\\anaconda3\\lib\\site-packages\\ipykernel\\ipkernel.py:287: DeprecationWarning: `should_run_async` will not call `transform_cell` automatically in the future. Please pass the result to `transformed_cell` argument and any exception that happen during thetransform in `preprocessing_exc_tuple` in IPython 7.17 and above.\n",
      "  and should_run_async(code)\n"
     ]
    },
    {
     "data": {
      "text/plain": [
       "3213"
      ]
     },
     "execution_count": 12,
     "metadata": {},
     "output_type": "execute_result"
    }
   ],
   "source": [
    "cf.movie_name.nunique()"
   ]
  },
  {
   "cell_type": "code",
   "execution_count": 13,
   "metadata": {},
   "outputs": [
    {
     "name": "stderr",
     "output_type": "stream",
     "text": [
      "C:\\Users\\larry\\anaconda3\\lib\\site-packages\\ipykernel\\ipkernel.py:287: DeprecationWarning: `should_run_async` will not call `transform_cell` automatically in the future. Please pass the result to `transformed_cell` argument and any exception that happen during thetransform in `preprocessing_exc_tuple` in IPython 7.17 and above.\n",
      "  and should_run_async(code)\n"
     ]
    }
   ],
   "source": [
    "movies = cf.movie_name.unique()\n",
    "resp = cf.respondent_id.unique()"
   ]
  },
  {
   "cell_type": "code",
   "execution_count": 14,
   "metadata": {},
   "outputs": [
    {
     "name": "stderr",
     "output_type": "stream",
     "text": [
      "C:\\Users\\larry\\anaconda3\\lib\\site-packages\\ipykernel\\ipkernel.py:287: DeprecationWarning: `should_run_async` will not call `transform_cell` automatically in the future. Please pass the result to `transformed_cell` argument and any exception that happen during thetransform in `preprocessing_exc_tuple` in IPython 7.17 and above.\n",
      "  and should_run_async(code)\n"
     ]
    }
   ],
   "source": [
    "#for movie in movies: \n",
    "#    print(movie, algo.predict(783008, movie).est)"
   ]
  },
  {
   "cell_type": "markdown",
   "metadata": {},
   "source": [
    "# RECOMMENDATION FUNCTION"
   ]
  },
  {
   "cell_type": "code",
   "execution_count": 15,
   "metadata": {},
   "outputs": [
    {
     "name": "stderr",
     "output_type": "stream",
     "text": [
      "C:\\Users\\larry\\anaconda3\\lib\\site-packages\\ipykernel\\ipkernel.py:287: DeprecationWarning: `should_run_async` will not call `transform_cell` automatically in the future. Please pass the result to `transformed_cell` argument and any exception that happen during thetransform in `preprocessing_exc_tuple` in IPython 7.17 and above.\n",
      "  and should_run_async(code)\n"
     ]
    }
   ],
   "source": [
    "#TOP 10 RECOMMENDATIONS\n",
    "\n",
    "def recommendation_10(ID):\n",
    "    pd.options.display.precision = 2\n",
    "    rcmd = pd.DataFrame(columns=['Movie_Name', 'Rating'])\n",
    "\n",
    "    for movie in movies:\n",
    "        rcmd = rcmd.append({'Movie_Name': movie, 'Rating': algo.predict(ID, movie).est}, ignore_index=True)\n",
    "     \n",
    "        rcmd = rcmd.sort_values(by=['Rating'], ascending=False).head(10)\n",
    "    title = 'Respondent ' + str(ID) + \"'s Top 10 Recommended Movies\", rcmd\n",
    "    return title"
   ]
  },
  {
   "cell_type": "code",
   "execution_count": 16,
   "metadata": {},
   "outputs": [
    {
     "name": "stderr",
     "output_type": "stream",
     "text": [
      "C:\\Users\\larry\\anaconda3\\lib\\site-packages\\ipykernel\\ipkernel.py:287: DeprecationWarning: `should_run_async` will not call `transform_cell` automatically in the future. Please pass the result to `transformed_cell` argument and any exception that happen during thetransform in `preprocessing_exc_tuple` in IPython 7.17 and above.\n",
      "  and should_run_async(code)\n"
     ]
    },
    {
     "data": {
      "text/plain": [
       "(\"Respondent 743006's Top 10 Recommended Movies\",\n",
       "                            Movie_Name  Rating\n",
       " 0        Sharknado 5: Global Swarming     5.0\n",
       " 1                   National Treasure     5.0\n",
       " 2  National Treasure: Book of Secrets     5.0\n",
       " 3                  Return of the Jedi     5.0\n",
       " 4              A Good Day to Die Hard     5.0\n",
       " 5                     The Lone Ranger     5.0\n",
       " 6              Boo! A Madea Halloween     5.0\n",
       " 7                               Sully     5.0\n",
       " 8                          The Intern     5.0\n",
       " 9                        Wonder Woman     5.0)"
      ]
     },
     "execution_count": 16,
     "metadata": {},
     "output_type": "execute_result"
    }
   ],
   "source": [
    "# Input ID Range from 743006 to 791017\n",
    "\n",
    "recommendation_10(743006)"
   ]
  },
  {
   "cell_type": "code",
   "execution_count": 17,
   "metadata": {},
   "outputs": [
    {
     "name": "stderr",
     "output_type": "stream",
     "text": [
      "C:\\Users\\larry\\anaconda3\\lib\\site-packages\\ipykernel\\ipkernel.py:287: DeprecationWarning: `should_run_async` will not call `transform_cell` automatically in the future. Please pass the result to `transformed_cell` argument and any exception that happen during thetransform in `preprocessing_exc_tuple` in IPython 7.17 and above.\n",
      "  and should_run_async(code)\n"
     ]
    }
   ],
   "source": [
    "#RECOMMENDS MOVIES WITH RATINGS = 5\n",
    "\n",
    "def recommendation_5(ID):\n",
    "    pd.options.display.max_rows = None\n",
    "    pd.options.display.precision = 2\n",
    "    rcmd = pd.DataFrame(columns=['Movie_Name', 'Rating'])\n",
    "\n",
    "    for movie in movies:\n",
    "        rcmd = rcmd.append({'Movie_Name': movie, 'Rating': algo.predict(ID, movie).est}, ignore_index=True)\n",
    "        rcmd = rcmd.sort_values(by=['Rating'], ascending=False)\n",
    "        rcmd = rcmd.loc[rcmd['Rating'] == 5]\n",
    "    title = 'Respondent ' + str(ID) + ':' + ' ' + str(len(rcmd.index)) +' Movies Likely to Rate 5',rcmd\n",
    "    return title"
   ]
  },
  {
   "cell_type": "code",
   "execution_count": 18,
   "metadata": {},
   "outputs": [
    {
     "name": "stderr",
     "output_type": "stream",
     "text": [
      "C:\\Users\\larry\\anaconda3\\lib\\site-packages\\ipykernel\\ipkernel.py:287: DeprecationWarning: `should_run_async` will not call `transform_cell` automatically in the future. Please pass the result to `transformed_cell` argument and any exception that happen during thetransform in `preprocessing_exc_tuple` in IPython 7.17 and above.\n",
      "  and should_run_async(code)\n"
     ]
    }
   ],
   "source": [
    "# Input ID Range from 743006 to 791017\n",
    "\n",
    "#recommendation_5(743006)"
   ]
  },
  {
   "cell_type": "code",
   "execution_count": null,
   "metadata": {},
   "outputs": [],
   "source": []
  }
 ],
 "metadata": {
  "kernelspec": {
   "display_name": "Python 3",
   "language": "python",
   "name": "python3"
  },
  "language_info": {
   "codemirror_mode": {
    "name": "ipython",
    "version": 3
   },
   "file_extension": ".py",
   "mimetype": "text/x-python",
   "name": "python",
   "nbconvert_exporter": "python",
   "pygments_lexer": "ipython3",
   "version": "3.8.8"
  }
 },
 "nbformat": 4,
 "nbformat_minor": 4
}
