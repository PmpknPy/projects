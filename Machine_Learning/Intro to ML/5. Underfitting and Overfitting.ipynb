{
 "cells": [
  {
   "cell_type": "code",
   "execution_count": 30,
   "id": "6610f231",
   "metadata": {},
   "outputs": [],
   "source": [
    "from sklearn.metrics import mean_absolute_error\n",
    "from sklearn.tree import DecisionTreeRegressor\n",
    "\n",
    "def get_mae(max_leaf_nodes, train_X, val_X, train_y, val_y):\n",
    "    model = DecisionTreeRegressor(max_leaf_nodes=max_leaf_nodes, random_state=0)\n",
    "    model.fit(train_X, train_y)\n",
    "    preds_val = model.predict(val_X)\n",
    "    mae = mean_absolute_error(val_y, preds_val)\n",
    "    return(mae)"
   ]
  },
  {
   "cell_type": "code",
   "execution_count": 31,
   "id": "4b067800",
   "metadata": {},
   "outputs": [],
   "source": [
    "import pandas as pd\n",
    "    \n",
    "# Load data\n",
    "melbourne_file_path = 'melb_data.csv'\n",
    "melbourne_data = pd.read_csv(melbourne_file_path) \n",
    "# Filter rows with missing values\n",
    "filtered_melbourne_data = melbourne_data.dropna(axis=0)\n",
    "# Choose target and features\n",
    "y = filtered_melbourne_data.Price\n",
    "melbourne_features = ['Rooms', 'Bathroom', 'Landsize', 'BuildingArea', \n",
    "                        'YearBuilt', 'Lattitude', 'Longtitude']\n",
    "X = filtered_melbourne_data[melbourne_features]\n",
    "\n",
    "from sklearn.model_selection import train_test_split\n",
    "\n",
    "# split data into training and validation data, for both features and target\n",
    "train_X, val_X, train_y, val_y = train_test_split(X, y,random_state = 0)"
   ]
  },
  {
   "cell_type": "code",
   "execution_count": 32,
   "id": "013e729d",
   "metadata": {},
   "outputs": [
    {
     "data": {
      "text/plain": [
       "((4647, 7), (1549, 7), (4647,), (1549,))"
      ]
     },
     "execution_count": 32,
     "metadata": {},
     "output_type": "execute_result"
    }
   ],
   "source": [
    "train_X.shape, val_X.shape, train_y.shape, val_y.shape"
   ]
  },
  {
   "cell_type": "code",
   "execution_count": 58,
   "id": "ee3de6c0",
   "metadata": {},
   "outputs": [
    {
     "name": "stdout",
     "output_type": "stream",
     "text": [
      "Max leaf nodes: 360  \t\t Mean Absolute Error:  241804\n",
      "Max leaf nodes: 361  \t\t Mean Absolute Error:  241614\n",
      "Max leaf nodes: 362  \t\t Mean Absolute Error:  241688\n",
      "Max leaf nodes: 363  \t\t Mean Absolute Error:  241510\n",
      "Max leaf nodes: 364  \t\t Mean Absolute Error:  241592\n",
      "Max leaf nodes: 365  \t\t Mean Absolute Error:  241447\n",
      "Max leaf nodes: 366  \t\t Mean Absolute Error:  241472\n",
      "Max leaf nodes: 367  \t\t Mean Absolute Error:  241027\n",
      "Max leaf nodes: 368  \t\t Mean Absolute Error:  241335\n",
      "Max leaf nodes: 369  \t\t Mean Absolute Error:  241485\n"
     ]
    }
   ],
   "source": [
    "# compare MAE with differing values of max_leaf_nodes\n",
    "dd = {}\n",
    "for max_leaf_nodes in range(360,370):\n",
    "    my_mae = get_mae(max_leaf_nodes, train_X, val_X, train_y, val_y)\n",
    "    dd[max_leaf_nodes] = round(my_mae)\n",
    "    print(\"Max leaf nodes: %d  \\t\\t Mean Absolute Error:  %d\" %(max_leaf_nodes, my_mae))"
   ]
  },
  {
   "cell_type": "code",
   "execution_count": 92,
   "id": "7082469d",
   "metadata": {},
   "outputs": [
    {
     "name": "stdout",
     "output_type": "stream",
     "text": [
      "367 : 241028\n"
     ]
    }
   ],
   "source": [
    "print(min(dd, key=dd.get),':',dd[min(dd, key=dd.get)])"
   ]
  },
  {
   "cell_type": "markdown",
   "id": "cf26a206",
   "metadata": {},
   "source": [
    "# MORE PRACTICE"
   ]
  },
  {
   "cell_type": "code",
   "execution_count": 67,
   "id": "5430baa0",
   "metadata": {},
   "outputs": [
    {
     "name": "stdout",
     "output_type": "stream",
     "text": [
      "Validation MAE: 29,653\n"
     ]
    }
   ],
   "source": [
    "# Code you have previously used to load data\n",
    "import pandas as pd\n",
    "from sklearn.metrics import mean_absolute_error\n",
    "from sklearn.model_selection import train_test_split\n",
    "from sklearn.tree import DecisionTreeRegressor\n",
    "\n",
    "\n",
    "# Path of the file to read\n",
    "iowa_file_path = 'train.csv'\n",
    "\n",
    "home_data = pd.read_csv(iowa_file_path)\n",
    "# Create target object and call it y\n",
    "y = home_data.SalePrice\n",
    "# Create X\n",
    "features = ['LotArea', 'YearBuilt', '1stFlrSF', '2ndFlrSF', 'FullBath', 'BedroomAbvGr', 'TotRmsAbvGrd']\n",
    "X = home_data[features]\n",
    "\n",
    "# Split into validation and training data\n",
    "train_X, val_X, train_y, val_y = train_test_split(X, y, random_state=1)\n",
    "\n",
    "# Specify Model\n",
    "iowa_model = DecisionTreeRegressor(random_state=1)\n",
    "# Fit Model\n",
    "iowa_model.fit(train_X, train_y)\n",
    "\n",
    "# Make validation predictions and calculate mean absolute error\n",
    "val_predictions = iowa_model.predict(val_X)\n",
    "val_mae = mean_absolute_error(val_predictions, val_y)\n",
    "print(\"Validation MAE: {:,.0f}\".format(val_mae))"
   ]
  },
  {
   "cell_type": "code",
   "execution_count": 68,
   "id": "693376bf",
   "metadata": {},
   "outputs": [],
   "source": [
    "def get_mae(max_leaf_nodes, train_X, val_X, train_y, val_y):\n",
    "    model = DecisionTreeRegressor(max_leaf_nodes=max_leaf_nodes, random_state=0)\n",
    "    model.fit(train_X, train_y)\n",
    "    preds_val = model.predict(val_X)\n",
    "    mae = mean_absolute_error(val_y, preds_val)\n",
    "    return(mae)"
   ]
  },
  {
   "cell_type": "markdown",
   "id": "0dfe67bf",
   "metadata": {},
   "source": [
    "# 1: Compare Different Tree Sizes"
   ]
  },
  {
   "cell_type": "code",
   "execution_count": 74,
   "id": "cecc887e",
   "metadata": {},
   "outputs": [
    {
     "name": "stdout",
     "output_type": "stream",
     "text": [
      "5 35045\n",
      "25 29016\n",
      "50 27406\n",
      "100 27283\n",
      "250 27894\n",
      "500 29454\n",
      "100 : 27283\n"
     ]
    }
   ],
   "source": [
    "candidate_max_leaf_nodes = [5, 25, 50, 100, 250, 500]\n",
    "# Write loop to find the ideal tree size from candidate_max_leaf_nodes\n",
    "for max_leaf_nodes in candidate_max_leaf_nodes:\n",
    "    mae = get_mae(max_leaf_nodes, train_X, val_X, train_y, val_y)\n",
    "    print(max_leaf_nodes, round(mae))\n",
    "\n",
    "# Store the best value of max_leaf_nodes (it will be either 5, 25, 50, 100, 250 or 500)\n",
    "scores = {leaf_size: round(get_mae(leaf_size, train_X, val_X, train_y, val_y)) for leaf_size in candidate_max_leaf_nodes}\n",
    "print(min(scores, key=scores.get),':',scores[min(scores, key=scores.get)])"
   ]
  },
  {
   "cell_type": "code",
   "execution_count": 85,
   "id": "aba0b728",
   "metadata": {},
   "outputs": [
    {
     "name": "stdout",
     "output_type": "stream",
     "text": [
      "60 27111\n",
      "61 27077\n",
      "62 26990\n",
      "63 26977\n",
      "64 26927\n",
      "65 27044\n",
      "66 26985\n",
      "67 26985\n",
      "68 26944\n",
      "69 26759\n",
      "70 26763\n",
      "71 26704\n",
      "72 26848\n",
      "73 27044\n",
      "74 27157\n",
      "75 27114\n",
      "76 27105\n",
      "77 27298\n",
      "78 27221\n",
      "79 27155\n",
      "Best number of leaf nodes is 71 : 26704\n"
     ]
    }
   ],
   "source": [
    "candidate_max_leaf_nodes = range(60,80)\n",
    "# Write loop to find the ideal tree size from candidate_max_leaf_nodes\n",
    "for max_leaf_nodes in candidate_max_leaf_nodes:\n",
    "    mae = get_mae(max_leaf_nodes, train_X, val_X, train_y, val_y)\n",
    "    print(max_leaf_nodes, round(mae))\n",
    "\n",
    "# Store the best value of max_leaf_nodes (it will be either 5, 25, 50, 100, 250 or 500)\n",
    "scores = {leaf_size: round(get_mae(leaf_size, train_X, val_X, train_y, val_y)) for leaf_size in candidate_max_leaf_nodes}\n",
    "print('Best number of leaf nodes is',min(scores, key=scores.get),':',scores[min(scores, key=scores.get)])"
   ]
  },
  {
   "cell_type": "markdown",
   "id": "c857961a",
   "metadata": {},
   "source": [
    "# 2: Fit Model Using All Data"
   ]
  },
  {
   "cell_type": "code",
   "execution_count": 88,
   "id": "f382e766",
   "metadata": {},
   "outputs": [
    {
     "data": {
      "text/plain": [
       "DecisionTreeRegressor(max_leaf_nodes=71)"
      ]
     },
     "execution_count": 88,
     "metadata": {},
     "output_type": "execute_result"
    }
   ],
   "source": [
    "# Fill in argument to make optimal size and uncomment\n",
    "final_model = DecisionTreeRegressor(max_leaf_nodes = 71)\n",
    "\n",
    "# fit the final model and uncomment the next two lines\n",
    "final_model.fit(X, y)"
   ]
  },
  {
   "cell_type": "code",
   "execution_count": 90,
   "id": "e9ef8808",
   "metadata": {},
   "outputs": [],
   "source": [
    "# when fitting the model, you won't need to create validation data\n",
    "    # because all the modeling decisions have been made, you've determined\n",
    "        # the minimum mean absolute error (MAE)\n",
    "    # max_leaf_nodes = 71, therefore you can use the entire dataset.\n",
    "    # Use ___.fit(X, y) as opposed to ___.fit(train_X, train_y)"
   ]
  },
  {
   "cell_type": "code",
   "execution_count": null,
   "id": "fdb45709",
   "metadata": {},
   "outputs": [],
   "source": []
  }
 ],
 "metadata": {
  "kernelspec": {
   "display_name": "Python 3",
   "language": "python",
   "name": "python3"
  },
  "language_info": {
   "codemirror_mode": {
    "name": "ipython",
    "version": 3
   },
   "file_extension": ".py",
   "mimetype": "text/x-python",
   "name": "python",
   "nbconvert_exporter": "python",
   "pygments_lexer": "ipython3",
   "version": "3.8.8"
  }
 },
 "nbformat": 4,
 "nbformat_minor": 5
}
