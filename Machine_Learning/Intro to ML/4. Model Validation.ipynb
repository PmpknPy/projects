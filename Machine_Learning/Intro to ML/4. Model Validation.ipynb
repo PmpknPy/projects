{
 "cells": [
  {
   "cell_type": "markdown",
   "id": "3f093ece",
   "metadata": {},
   "source": [
    "# The Problem with \"In-Sample\" Scores"
   ]
  },
  {
   "cell_type": "code",
   "execution_count": 115,
   "id": "d5c18bae",
   "metadata": {},
   "outputs": [
    {
     "data": {
      "text/plain": [
       "DecisionTreeRegressor()"
      ]
     },
     "execution_count": 115,
     "metadata": {},
     "output_type": "execute_result"
    }
   ],
   "source": [
    "import pandas as pd\n",
    "\n",
    "# Load data\n",
    "melbourne_file_path = 'melb_data.csv'\n",
    "melbourne_data = pd.read_csv(melbourne_file_path) \n",
    "\n",
    "# Filter rows with missing price values\n",
    "filtered_melbourne_data = melbourne_data.dropna(axis=0)\n",
    "\n",
    "# Choose target and features\n",
    "y = filtered_melbourne_data.Price\n",
    "melbourne_features = ['Rooms', 'Bathroom', 'Landsize', 'BuildingArea', \n",
    "                        'YearBuilt', 'Lattitude', 'Longtitude']\n",
    "X = filtered_melbourne_data[melbourne_features]\n",
    "\n",
    "\n",
    "from sklearn.tree import DecisionTreeRegressor\n",
    "# Define model\n",
    "melbourne_model = DecisionTreeRegressor()\n",
    "# Fit model\n",
    "melbourne_model.fit(X, y)"
   ]
  },
  {
   "cell_type": "code",
   "execution_count": 116,
   "id": "d3404ba9",
   "metadata": {},
   "outputs": [
    {
     "data": {
      "text/plain": [
       "434.71594577146544"
      ]
     },
     "execution_count": 116,
     "metadata": {},
     "output_type": "execute_result"
    }
   ],
   "source": [
    "from sklearn.metrics import mean_absolute_error\n",
    "\n",
    "predicted_home_prices = melbourne_model.predict(X)\n",
    "mean_absolute_error(y, predicted_home_prices)\n",
    "\n",
    "# the mean absolute error (MAE) is suspiciously small"
   ]
  },
  {
   "cell_type": "markdown",
   "id": "1f060e65",
   "metadata": {},
   "source": [
    "# Out-sample scores, training + validation data"
   ]
  },
  {
   "cell_type": "code",
   "execution_count": 118,
   "id": "7e9c61ab",
   "metadata": {},
   "outputs": [
    {
     "name": "stdout",
     "output_type": "stream",
     "text": [
      "251167.6391220142\n"
     ]
    }
   ],
   "source": [
    "from sklearn.model_selection import train_test_split\n",
    "\n",
    "# split data into training and validation data, for both features X and target Y\n",
    "# The split is based on a random number generator. Supplying a numeric value to\n",
    "# the random_state argument guarantees we get the same split every time we\n",
    "# run this script.\n",
    "train_X, val_X, train_y, val_y = train_test_split(X, y, random_state = 2)\n",
    "\n",
    "# Define model\n",
    "melbourne_model = DecisionTreeRegressor()\n",
    "\n",
    "# Fit model\n",
    "melbourne_model.fit(train_X, train_y)\n",
    "\n",
    "# get predicted prices on validation data\n",
    "val_predictions = melbourne_model.predict(val_X)\n",
    "print(mean_absolute_error(val_y, val_predictions))\n",
    "\n",
    "# WOW, the MAE is ~$250,000 compared to the ~$500"
   ]
  },
  {
   "cell_type": "code",
   "execution_count": 35,
   "id": "5da268ab",
   "metadata": {},
   "outputs": [],
   "source": [
    "# This is the difference between almost perfect prediction vs practically unusable\n",
    "# For reference, the avg home value in the vlidation data is $1,100,000\n",
    "# There are ways to improve the model by experimenting to find better\n",
    "        # features X, or different model types"
   ]
  },
  {
   "cell_type": "markdown",
   "id": "66177c1b",
   "metadata": {},
   "source": [
    "# More Practice"
   ]
  },
  {
   "cell_type": "code",
   "execution_count": 121,
   "id": "375dc169",
   "metadata": {},
   "outputs": [
    {
     "name": "stdout",
     "output_type": "stream",
     "text": [
      "First in-sample predictions: [208500. 181500. 223500. 140000. 250000.]\n",
      "Actual target values for those homes: [208500, 181500, 223500, 140000, 250000]\n"
     ]
    }
   ],
   "source": [
    "import pandas as pd\n",
    "from sklearn.tree import DecisionTreeRegressor\n",
    "\n",
    "# Path of the file to read\n",
    "iowa_file_path = 'train.csv'\n",
    "\n",
    "home_data = pd.read_csv(iowa_file_path)\n",
    "y = home_data.SalePrice\n",
    "feature_columns = ['LotArea', 'YearBuilt', '1stFlrSF', '2ndFlrSF', \n",
    "                   'FullBath', 'BedroomAbvGr', 'TotRmsAbvGrd']\n",
    "X = home_data[feature_columns]\n",
    "\n",
    "# Specify Model\n",
    "iowa_model = DecisionTreeRegressor()\n",
    "# Fit Model\n",
    "iowa_model.fit(X, y)\n",
    "\n",
    "print(\"First in-sample predictions:\", iowa_model.predict(X.head()))\n",
    "print(\"Actual target values for those homes:\", y.head().tolist())"
   ]
  },
  {
   "cell_type": "markdown",
   "id": "9fe0496e",
   "metadata": {},
   "source": [
    "# 1. Split the Data"
   ]
  },
  {
   "cell_type": "code",
   "execution_count": 122,
   "id": "ab9359bc",
   "metadata": {},
   "outputs": [
    {
     "data": {
      "text/plain": [
       "((1095, 7), (365, 7), (1095,), (365,))"
      ]
     },
     "execution_count": 122,
     "metadata": {},
     "output_type": "execute_result"
    }
   ],
   "source": [
    "from sklearn.model_selection import train_test_split\n",
    "\n",
    "train_X, val_X, train_y, val_y = train_test_split(X, y, random_state = 1)\n",
    "\n",
    "train_X.shape,val_X.shape,train_y.shape, val_y.shape"
   ]
  },
  {
   "cell_type": "markdown",
   "id": "25f25b63",
   "metadata": {},
   "source": [
    "# 2. Specify and Fit the Model"
   ]
  },
  {
   "cell_type": "code",
   "execution_count": 123,
   "id": "9ab79490",
   "metadata": {},
   "outputs": [
    {
     "data": {
      "text/plain": [
       "DecisionTreeRegressor(random_state=1)"
      ]
     },
     "execution_count": 123,
     "metadata": {},
     "output_type": "execute_result"
    }
   ],
   "source": [
    "iowa_model = DecisionTreeRegressor(random_state = 1)\n",
    "\n",
    "iowa_model.fit(train_X, train_y)"
   ]
  },
  {
   "cell_type": "markdown",
   "id": "28b98c1a",
   "metadata": {},
   "source": [
    "# 3. Make Predictions with Validation Data"
   ]
  },
  {
   "cell_type": "code",
   "execution_count": 124,
   "id": "cb70f8b2",
   "metadata": {},
   "outputs": [],
   "source": [
    "# make prediction using the validation data\n",
    "# ___.predict(val_X) means to predict the val_X (features X of validation data)\n",
    "val_predictions = iowa_model.predict(val_X)"
   ]
  },
  {
   "cell_type": "code",
   "execution_count": 125,
   "id": "3c26466d",
   "metadata": {},
   "outputs": [
    {
     "name": "stdout",
     "output_type": "stream",
     "text": [
      "validation data predictions       [186500. 184000. 130000.  92000. 164500.]\n",
      "actual price from validation data [231500, 179500, 122000, 84500, 142000]\n"
     ]
    }
   ],
   "source": [
    "# print the top few validation predictions\n",
    "print(\"validation data predictions      \",val_predictions[:5])\n",
    "\n",
    "# print the top few actual prices from validation data\n",
    "print(\"actual price from validation data\",list(val_y.head(5)))"
   ]
  },
  {
   "cell_type": "markdown",
   "id": "878e68a3",
   "metadata": {},
   "source": [
    "# 4. Calculate the Mean Absolute Error (MAE) in Validation Data"
   ]
  },
  {
   "cell_type": "code",
   "execution_count": 136,
   "id": "1c46786a",
   "metadata": {},
   "outputs": [
    {
     "name": "stdout",
     "output_type": "stream",
     "text": [
      "29652.931506849316\n"
     ]
    }
   ],
   "source": [
    "from sklearn.metrics import mean_absolute_error\n",
    "val_mae = (mean_absolute_error(val_y, val_predictions))\n",
    "\n",
    "print(val_mae)"
   ]
  },
  {
   "cell_type": "code",
   "execution_count": 137,
   "id": "d5a1c2eb",
   "metadata": {},
   "outputs": [
    {
     "name": "stdout",
     "output_type": "stream",
     "text": [
      "2400.0\n"
     ]
    }
   ],
   "source": [
    "in_sample_X = iowa_model.predict(X.head())\n",
    "in_sample_y = y.head().tolist()\n",
    "\n",
    "in_sample_MAE = (mean_absolute_error(in_sample_X, in_sample_y))\n",
    "\n",
    "print(in_sample_MAE)"
   ]
  },
  {
   "cell_type": "code",
   "execution_count": null,
   "id": "4fab2977",
   "metadata": {},
   "outputs": [],
   "source": [
    "# in_sample MAE is much lower, because it makes prediction on the data that it\n",
    "    # was fitted on\n",
    "# while validation data is larger and has more practice use, but it can be\n",
    "    #improved on"
   ]
  }
 ],
 "metadata": {
  "kernelspec": {
   "display_name": "Python 3",
   "language": "python",
   "name": "python3"
  },
  "language_info": {
   "codemirror_mode": {
    "name": "ipython",
    "version": 3
   },
   "file_extension": ".py",
   "mimetype": "text/x-python",
   "name": "python",
   "nbconvert_exporter": "python",
   "pygments_lexer": "ipython3",
   "version": "3.8.8"
  }
 },
 "nbformat": 4,
 "nbformat_minor": 5
}
